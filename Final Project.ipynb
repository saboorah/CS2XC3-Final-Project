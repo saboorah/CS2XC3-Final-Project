{
 "cells": [
  {
   "cell_type": "code",
   "execution_count": 1,
   "id": "6ca7176b",
   "metadata": {},
   "outputs": [],
   "source": [
    "#1.2?\n",
    "class WeightedGraph:\n",
    "\n",
    "    def __init__(self,nodes):\n",
    "        self.graph=[]\n",
    "        self.weights={}\n",
    "        for node in range(nodes):\n",
    "            self.graph.append([])\n",
    "\n",
    "    def add_node(self,node):\n",
    "        self.graph[node]=[]\n",
    "\n",
    "    def add_edge(self, node1, node2, weight):\n",
    "        if node2 not in self.graph[node1]:\n",
    "            self.graph[node1].append(node2)\n",
    "        self.weights[(node1, node2)] = weight\n",
    "\n",
    "    def get_weights(self, node1, node2):\n",
    "        if self.are_connected(node1, node2):\n",
    "            return self.weights[(node1, node2)]\n",
    "\n",
    "    def are_connected(self, node1, node2):\n",
    "        for neighbour in self.graph[node1]:\n",
    "            if neighbour == node2:\n",
    "                return True\n",
    "        return False\n",
    "\n",
    "    def get_neighbors(self, node):\n",
    "        return self.graph[node]\n",
    "\n",
    "    def get_number_of_nodes(self,):\n",
    "        return len(self.graph)\n",
    "    \n",
    "    def get_nodes(self,):\n",
    "        return [i for i in range(len(self.graph))]"
   ]
  },
  {
   "cell_type": "code",
   "execution_count": 30,
   "id": "5023dac4",
   "metadata": {},
   "outputs": [],
   "source": [
    "def BellmanFord(g,src,k):\n",
    "    dist = {}\n",
    "    pred = {}\n",
    "    visited={}\n",
    "    #initializing distance of all nodes to infinity and dist of 1st node as 0\n",
    "    for i in range(g.get_number_of_nodes()):\n",
    "        visited[i] = False\n",
    "        dist[i] = float(\"inf\")\n",
    "        pred[i] = []\n",
    "        \n",
    "    dist[src] = 0\n",
    "    \n",
    "    for _ in range(k):\n",
    "        for node in g.get_nodes():\n",
    "            for n in g.get_neighbors(node):\n",
    "                weight = g.get_weights(node,n)\n",
    "                if weight != None:\n",
    "                    if dist[node] + weight < dist[n]:\n",
    "                        dist[n] = dist[node] + weight\n",
    "                        pred[n].append(node)\n",
    "                    \n",
    "                    \n",
    "    #negative cycle\n",
    "    \n",
    "    for node in g.get_nodes():\n",
    "        for n in g.get_neighbors(node):\n",
    "            weight = g.get_weights(node,n)\n",
    "            if weight != None:\n",
    "                if dist[node] + weight < dist[n]:\n",
    "                    return ValueError\n",
    "            \n",
    "    \n",
    "    return dist, pred"
   ]
  },
  {
   "cell_type": "code",
   "execution_count": 26,
   "id": "a1c62874",
   "metadata": {},
   "outputs": [],
   "source": [
    "'''def BellmanFord(g, src, k):\n",
    "    dist = {}\n",
    "    pred = {}\n",
    "    visited = {}\n",
    "\n",
    "    # Initializing distance of all nodes to infinity and dist of 1st node as 0\n",
    "    for i in range(g.get_number_of_nodes()):\n",
    "        visited[i] = False\n",
    "        dist[i] = float(\"inf\")\n",
    "        pred[i] = []\n",
    "\n",
    "    dist[src] = 0\n",
    "\n",
    "    for _ in range(k):\n",
    "        for node in g.get_nodes():\n",
    "            for n in g.get_neighbors(node):\n",
    "                weight = g.get_weights(node, n)  # Corrected the order of arguments\n",
    "                if weight is not None and dist[node] + weight < dist[n]:  # Check if weight is not None\n",
    "                    dist[n] = dist[node] + weight\n",
    "                    pred[n] = pred[node] + [node]\n",
    "\n",
    "    # Check for negative cycles\n",
    "    for node in g.get_nodes():\n",
    "        for n in g.get_neighbors(node):\n",
    "            weight = g.get_weights(node, n)  # Corrected the order of arguments\n",
    "            if weight is not None and dist[node] + weight < dist[n]:  # Check if weight is not None\n",
    "                raise ValueError(\"Graph contains a negative cycle\")\n",
    "\n",
    "    return dist, pred'''"
   ]
  },
  {
   "cell_type": "code",
   "execution_count": 34,
   "id": "4f99026a",
   "metadata": {},
   "outputs": [
    {
     "name": "stdout",
     "output_type": "stream",
     "text": [
      "({0: 0, 1: 7, 2: 3, 3: 9, 4: 5}, {0: [], 1: [0, 2], 2: [0], 3: [1, 2, 1], 4: [2]})\n"
     ]
    }
   ],
   "source": [
    "\n",
    "#Example usage:\n",
    "g = WeightedGraph(5)\n",
    "g.add_edge(0, 1, 10)\n",
    "g.add_edge(0, 2, 3)\n",
    "g.add_edge(1, 2, 1)\n",
    "g.add_edge(1, 3, 2)\n",
    "g.add_edge(2, 1, 4)\n",
    "g.add_edge(2, 3, 8)\n",
    "g.add_edge(2, 4, 2)\n",
    "g.add_edge(3, 4, 7)\n",
    "g.add_edge(4, 3, 9)\n",
    "print(BellmanFord(g, 0, 3))"
   ]
  }
 ],
 "metadata": {
  "kernelspec": {
   "display_name": "base",
   "language": "python",
   "name": "python3"
  },
  "language_info": {
   "codemirror_mode": {
    "name": "ipython",
    "version": 3
   },
   "file_extension": ".py",
   "mimetype": "text/x-python",
   "name": "python",
   "nbconvert_exporter": "python",
   "pygments_lexer": "ipython3",
   "version": "3.11.4"
  }
 },
 "nbformat": 4,
 "nbformat_minor": 5
}
