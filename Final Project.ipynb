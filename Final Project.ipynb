{
 "cells": [
  {
   "cell_type": "code",
   "execution_count": 3,
   "id": "8e86e7ed",
   "metadata": {},
   "outputs": [],
   "source": [
    "#PART 5\n",
    "#ORGANIZING CODE ACCORDING TO THE GIVEN UML\n",
    "\n",
    "from abc import ABC,abstractmethod\n",
    "\n",
    "class Graph:\n",
    "\n",
    "    def __init__(self,nodes):\n",
    "        self.graph=[]\n",
    "        self.weights={}\n",
    "        for node in range(nodes):\n",
    "            self.graph.append([])\n",
    "    \n",
    "    def add_node(self,node):\n",
    "        self.graph[node]=[]\n",
    "\n",
    "    def add_edge(self, node1, node2, weight):\n",
    "        if node2 not in self.graph[node1]:\n",
    "            self.graph[node1].append(node2)\n",
    "        self.weights[(node1, node2)] = weight\n",
    "    \n",
    "    def adj_nodes(self,node1):\n",
    "        return self.graph[node1]\n",
    "\n",
    "    def get_number_of_nodes(self,):\n",
    "        return len(self.graph)\n",
    "    \n",
    "    @abstractmethod\n",
    "    def w(self,node1,node2):\n",
    "        pass\n",
    "\n",
    "class WeightedGraph(Graph):\n",
    "\n",
    "    def w(self, node1, node2):\n",
    "        if self.are_connected(node1, node2):\n",
    "            return self.weights[(node1, node2)]\n",
    "        \n",
    "class HeuristicGraph(WeightedGraph):"
   ]
  }
 ],
 "metadata": {
  "kernelspec": {
   "display_name": "Python 3",
   "language": "python",
   "name": "python3"
  },
  "language_info": {
   "codemirror_mode": {
    "name": "ipython",
    "version": 3
   },
   "file_extension": ".py",
   "mimetype": "text/x-python",
   "name": "python",
   "nbconvert_exporter": "python",
   "pygments_lexer": "ipython3",
   "version": "3.10.6"
  }
 },
 "nbformat": 4,
 "nbformat_minor": 5
}
